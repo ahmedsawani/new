{
 "cells": [
  {
   "cell_type": "code",
   "execution_count": null,
   "metadata": {},
   "outputs": [],
   "source": [
    "motorcycles = ['honda', 'yamaha', 123]\n",
    "print(motorcycles)\n",
    "motorcycles.append(\"umer\")\n",
    "print(motorcycles)"
   ]
  },
  {
   "cell_type": "code",
   "execution_count": 1,
   "metadata": {},
   "outputs": [
    {
     "name": "stdout",
     "output_type": "stream",
     "text": [
      "['raza', 123, 'jirafa', 1111111111]\n",
      "1111111111\n",
      "raza\n",
      "['raza', 123, 'jirafa', 1111111111, 123]\n",
      "['raza', 123, 'jirafa', 'ahmed', 123]\n",
      "my   love   is\traza\n",
      "don't be shy\n"
     ]
    }
   ],
   "source": [
    "ahmed=[\"raza\",123,\"jirafa\",1111111111 ]\n",
    "print(ahmed)\n",
    "print(ahmed[-1])\n",
    "print(ahmed[0])\n",
    "ahmed.append(123,)\n",
    "print(ahmed)\n",
    "ahmed[3]=\"ahmed\"\n",
    "print(ahmed)\n",
    "message=\"my   love   is\" +\"\\t\"+ahmed[0]+\"\\ndon't be shy\"\n",
    "\n",
    "print(message)"
   ]
  },
  {
   "cell_type": "code",
   "execution_count": null,
   "metadata": {},
   "outputs": [],
   "source": [
    "cisco=[]\n",
    "cisco.append(123)\n",
    "cisco.append(9888)\n",
    "cisco.append(777)\n",
    "cisco.append(55)\n",
    "print(cisco)\n",
    "cisco[3]=\"ahmed\"\n",
    "print(cisco)\n",
    "cisco.insert(2,\"farooq\")\n",
    "print(cisco)\n",
    "cisco.remove(777)\n",
    "print(cisco)\n",
    "print(cisco.index(123))\n",
    "cisco.append(\"fahad\")\n",
    "cisco.append(\"arif\")\n",
    "cisco.append(\"fahad\")\n",
    "print(cisco)\n",
    "print(cisco.index(\"fahad\"))\n",
    "popped_cisco=cisco.pop()\n",
    "print(cisco)\n",
    "print(popped_cisco)"
   ]
  },
  {
   "cell_type": "code",
   "execution_count": null,
   "metadata": {},
   "outputs": [],
   "source": [
    "tasks=[\"task1\",\"task2\",\"task3\",\"task4\"]\n",
    "print(tasks)\n",
    "done_tasks=[] \n",
    "task1=input(\"done or not [d/n]\").upper()\n",
    "'''if task1==D:\"\"\"\n",
    "\n",
    "    \n",
    "    \n",
    "\n"
   ]
  },
  {
   "cell_type": "code",
   "execution_count": null,
   "metadata": {},
   "outputs": [],
   "source": [
    "tasks=[\"task1\",\"task2\",\"task3\",\"task4\"]\n",
    "print(tasks)\n",
    "done_tasks=[]\n",
    "task1=input(\"done or not [d/n]\").upper()\n",
    "if task1 == 'D':\n",
    "    popped_value = tasks.pop()\n",
    "    done_tasks.append(popped_value)\n",
    "    \n",
    "print(done_tasks)\n",
    "\n",
    "    \n",
    "\n",
    "    "
   ]
  },
  {
   "cell_type": "code",
   "execution_count": 33,
   "metadata": {},
   "outputs": [
    {
     "name": "stdout",
     "output_type": "stream",
     "text": [
      "done or not [d/n]  d\n",
      "task_done\n",
      "['task4']\n"
     ]
    }
   ],
   "source": [
    "tasks=[\"task1\",\"task2\",\"task3\",\"task4\"]\n",
    "done_tasks=[]\n",
    "task1=input(\"done or not [d/n]  \").upper()\n",
    "if task1 == 'D':\n",
    "    print(\"task_done\")\n",
    "    popped_value = tasks.pop()\n",
    "    done_tasks.append(popped_value)\n",
    "else:\n",
    "        print(\"do your task\")\n",
    "print(done_tasks)\n",
    "# task2=input(\"done or not [d/n]  \").upper()\n",
    "\n",
    "# if task2 == 'D':\n",
    "#     print(\"task_done\")\n",
    "#     popped_value = tasks.pop()\n",
    "#     done_tasks.append(popped_value)\n",
    "# else:\n",
    "#     print(\"do your task\")\n",
    "# print(done_tasks)\n",
    "    \n",
    "\n",
    "    "
   ]
  },
  {
   "cell_type": "code",
   "execution_count": 16,
   "metadata": {},
   "outputs": [
    {
     "name": "stdout",
     "output_type": "stream",
     "text": [
      "done or not [d/n]     d\n",
      "['task4', 'task3']\n"
     ]
    }
   ],
   "source": [
    "task1=input(\"done or not [d/n]     \").upper()\n",
    "if task1 == 'D':\n",
    "    popped_value = tasks.pop()\n",
    "    done_tasks.append(popped_value)\n",
    "    \n",
    "print(done_tasks)"
   ]
  },
  {
   "cell_type": "code",
   "execution_count": 35,
   "metadata": {},
   "outputs": [
    {
     "name": "stdout",
     "output_type": "stream",
     "text": [
      "enter your tasktask1\n"
     ]
    },
    {
     "ename": "NameError",
     "evalue": "name 'index' is not defined",
     "output_type": "error",
     "traceback": [
      "\u001b[1;31m---------------------------------------------------------------------------\u001b[0m",
      "\u001b[1;31mNameError\u001b[0m                                 Traceback (most recent call last)",
      "\u001b[1;32m<ipython-input-35-0f353074ea0c>\u001b[0m in \u001b[0;36m<module>\u001b[1;34m\u001b[0m\n\u001b[0;32m      1\u001b[0m \u001b[0mtasks\u001b[0m\u001b[1;33m=\u001b[0m\u001b[1;33m[\u001b[0m\u001b[1;34m\"task1\"\u001b[0m\u001b[1;33m,\u001b[0m\u001b[1;34m\"task2\"\u001b[0m\u001b[1;33m,\u001b[0m\u001b[1;34m\"task3\"\u001b[0m\u001b[1;33m,\u001b[0m\u001b[1;34m\"task4\"\u001b[0m\u001b[1;33m]\u001b[0m\u001b[1;33m\u001b[0m\u001b[1;33m\u001b[0m\u001b[0m\n\u001b[0;32m      2\u001b[0m \u001b[0mstatus\u001b[0m \u001b[1;33m=\u001b[0m\u001b[0minput\u001b[0m\u001b[1;33m(\u001b[0m\u001b[1;34m\"enter your task\"\u001b[0m\u001b[1;33m)\u001b[0m\u001b[1;33m\u001b[0m\u001b[1;33m\u001b[0m\u001b[0m\n\u001b[1;32m----> 3\u001b[1;33m \u001b[0mtask\u001b[0m\u001b[1;33m=\u001b[0m\u001b[1;33m(\u001b[0m\u001b[0mindex\u001b[0m\u001b[1;33m,\u001b[0m\u001b[1;33m[\u001b[0m\u001b[1;36m2\u001b[0m\u001b[1;33m]\u001b[0m\u001b[1;33m)\u001b[0m\u001b[1;33m\u001b[0m\u001b[1;33m\u001b[0m\u001b[0m\n\u001b[0m\u001b[0;32m      4\u001b[0m \u001b[1;32mif\u001b[0m \u001b[0mstatus\u001b[0m \u001b[1;32min\u001b[0m \u001b[0mtasks\u001b[0m\u001b[1;33m:\u001b[0m\u001b[1;33m\u001b[0m\u001b[1;33m\u001b[0m\u001b[0m\n\u001b[0;32m      5\u001b[0m     \u001b[0mstatus\u001b[0m\u001b[1;33m=\u001b[0m\u001b[0mtasks\u001b[0m\u001b[1;33m.\u001b[0m\u001b[0mpop\u001b[0m\u001b[1;33m(\u001b[0m\u001b[1;33m)\u001b[0m\u001b[1;33m\u001b[0m\u001b[1;33m\u001b[0m\u001b[0m\n",
      "\u001b[1;31mNameError\u001b[0m: name 'index' is not defined"
     ]
    }
   ],
   "source": [
    "tasks=[\"task1\",\"task2\",\"task3\",\"task4\"]\n",
    "status =input(\"enter your task\")\n",
    "task=(index,[2])\n",
    "if status in tasks:\n",
    "    status=tasks.pop()\n",
    "    done_task.append(status)\n",
    "    print(complete)"
   ]
  },
  {
   "cell_type": "code",
   "execution_count": 37,
   "metadata": {},
   "outputs": [
    {
     "name": "stdout",
     "output_type": "stream",
     "text": [
      "enter your tasktv\n",
      "['call sara', 'music']\n",
      "['tv']\n"
     ]
    }
   ],
   "source": [
    "todo_list=[\"call sara\",\"music\",\"tv\",]\n",
    "com_list=[]\n",
    "task = input(\"enter your task\")\n",
    "if task in todo_list:\n",
    "    index=todo_list.index(task)\n",
    "    com_list.append(todo_list.pop(index))\n",
    "    print(todo_list)\n",
    "    print(com_list)"
   ]
  },
  {
   "cell_type": "code",
   "execution_count": null,
   "metadata": {},
   "outputs": [],
   "source": []
  }
 ],
 "metadata": {
  "kernelspec": {
   "display_name": "Python 3",
   "language": "python",
   "name": "python3"
  },
  "language_info": {
   "codemirror_mode": {
    "name": "ipython",
    "version": 3
   },
   "file_extension": ".py",
   "mimetype": "text/x-python",
   "name": "python",
   "nbconvert_exporter": "python",
   "pygments_lexer": "ipython3",
   "version": "3.7.1"
  }
 },
 "nbformat": 4,
 "nbformat_minor": 2
}
