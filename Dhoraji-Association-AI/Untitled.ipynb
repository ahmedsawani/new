{
 "cells": [
  {
   "cell_type": "code",
   "execution_count": null,
   "metadata": {},
   "outputs": [],
   "source": [
    "name = input(\"Enter your name:\").lower()\n",
    "if name == 'SHAHZAD':\n",
    "    print('Your name is ' + name)\n",
    "else:\n",
    "    print(\"NO\")"
   ]
  },
  {
   "cell_type": "code",
   "execution_count": null,
   "metadata": {},
   "outputs": [],
   "source": [
    "hot = float(input(\"whatisssss\"))\n",
    "if hot <100:\n",
    "    print(\"pent\")\n",
    "else:\n",
    "    print(\"shirt\")\n",
    "print(\"jeeto pakistan\")     "
   ]
  },
  {
   "cell_type": "code",
   "execution_count": null,
   "metadata": {},
   "outputs": [],
   "source": [
    "ahmed = float(input(\"marks out of 100:\"))\n",
    "if ahmed>= 90:\n",
    "    print(\"A\")\n",
    "elif ahmed>=80:\n",
    "        print(\"B\")\n",
    "elif ahmed>=70:\n",
    "        print(\"C\")\n",
    "elif ahmed>=60:\n",
    "        print(\"D\")\n",
    "elif ahmed>=50:\n",
    "        print(\"FAIL FAIL\")  \n",
    "elif ahmed<=100:\n",
    "    print(\"out class\")"
   ]
  },
  {
   "cell_type": "code",
   "execution_count": null,
   "metadata": {},
   "outputs": [],
   "source": [
    "eng=int(input(\"enter your marks\"))\n",
    "urdu=int(input(\"enter your marks\"))\n",
    "maths=int(input(\"enter your marks\"))\n",
    "prog=int(input(\"enter your marks\"))\n",
    "ai=int(input(\"enter your marks\"))\n",
    "total=eng+urdu+maths+prog+ai\n",
    "per=total/500*100\n",
    "print(total)\n",
    "print(per)\n",
    "score=(\"percentage out of 100\")\n",
    "if score>=90:\n",
    "    print(\"A\")\n",
    "elif score>=70:\n",
    "    print(\"B\")\n",
    "elif score>=60:\n",
    "    print(\"C\")\n",
    "elif score>=50:\n",
    "    print(\"D\")\n",
    "print(\"\\nyour marks are:\"  ,total,\"\\npercentage:\"  ,per, \"\\nscore:\",score,)"
   ]
  },
  {
   "cell_type": "code",
   "execution_count": null,
   "metadata": {},
   "outputs": [],
   "source": [
    "ahmed = 50\n",
    "if ahmed<=40:\n",
    "    print(\"far is well\")\n",
    "else:\n",
    "    print(\"farigh\")"
   ]
  },
  {
   "cell_type": "code",
   "execution_count": null,
   "metadata": {},
   "outputs": [],
   "source": [
    "f = 30\n",
    "g = 40\n",
    "h = 6\n",
    "if f==30 and g==40 and h==6:print(\"well\")"
   ]
  },
  {
   "cell_type": "code",
   "execution_count": null,
   "metadata": {
    "scrolled": true
   },
   "outputs": [],
   "source": [
    "money =int(input(\"petrol money is avilable?\"))\n",
    "namaas =input(\"have you offered salah? [yes/no]\").upper()\n",
    "work =input(\"have you completed your work? [yes/no]\").lower()\n",
    "cigrate = int(input(\"quantity\"))\n",
    "if cigrate==5 and namaas=='YES' and work == 'yes' and money >= 500 :\n",
    "   print(\"are you ready to move\")\n",
    "else:\n",
    "   print(\"arrange money\")"
   ]
  },
  {
   "cell_type": "code",
   "execution_count": null,
   "metadata": {},
   "outputs": [],
   "source": []
  },
  {
   "cell_type": "code",
   "execution_count": null,
   "metadata": {},
   "outputs": [],
   "source": [
    "money =int(input(\"petrol money is avilable?\"))\n",
    "namaas =input(\"have you offered salah? [yes/no]\").upper()\n",
    "work =input(\"have you completed your work? [yes/no]\").lower()\n",
    "cigrate = int(input(\"quantity\"))\n",
    "            if cigrate == 5 :\n",
    "              print(\"are you ready to move\")\n",
    "            else:\n",
    "              print(\"arrange money\")"
   ]
  },
  {
   "cell_type": "code",
   "execution_count": 5,
   "metadata": {},
   "outputs": [
    {
     "name": "stdout",
     "output_type": "stream",
     "text": [
      "su\n"
     ]
    }
   ],
   "source": [
    "mylist =[\"usa\",\"uae\",\"su\",\"khi\",\"lhr\",1452,58966]\n",
    "print(mylist[2])"
   ]
  },
  {
   "cell_type": "code",
   "execution_count": 13,
   "metadata": {},
   "outputs": [
    {
     "name": "stdout",
     "output_type": "stream",
     "text": [
      "su\n",
      "su\n"
     ]
    },
    {
     "data": {
      "text/plain": [
       "7"
      ]
     },
     "execution_count": 13,
     "metadata": {},
     "output_type": "execute_result"
    }
   ],
   "source": [
    "mylist =[\"usa\",\"uae\",\"su\",\"khi\",\"lhr\",1452,58966]\n",
    "print(mylist[-5])\n",
    "# len(mylist)\n",
    "print(mylist[2])\n",
    "len(mylist)"
   ]
  },
  {
   "cell_type": "code",
   "execution_count": null,
   "metadata": {},
   "outputs": [],
   "source": []
  }
 ],
 "metadata": {
  "kernelspec": {
   "display_name": "Python 3",
   "language": "python",
   "name": "python3"
  },
  "language_info": {
   "codemirror_mode": {
    "name": "ipython",
    "version": 3
   },
   "file_extension": ".py",
   "mimetype": "text/x-python",
   "name": "python",
   "nbconvert_exporter": "python",
   "pygments_lexer": "ipython3",
   "version": "3.7.1"
  }
 },
 "nbformat": 4,
 "nbformat_minor": 2
}
