{
 "cells": [
  {
   "cell_type": "code",
   "execution_count": null,
   "metadata": {},
   "outputs": [],
   "source": []
  },
  {
   "cell_type": "markdown",
   "metadata": {},
   "source": [
    "# for looooooop and in "
   ]
  },
  {
   "cell_type": "code",
   "execution_count": null,
   "metadata": {},
   "outputs": [],
   "source": [
    "cargo =[\"tv\",\"vcr\",\"lcd\",\"cisco\",\"apple\"]\n",
    "for machine in cargo:\n",
    "    print(\"welcome to pakistan\"+\"==\"+ machine.title() + \".\")"
   ]
  },
  {
   "cell_type": "code",
   "execution_count": null,
   "metadata": {},
   "outputs": [],
   "source": [
    "for ahmed in range (1,10,2):#even =(0,10,2) odd 1,10,2\n",
    "    print(ahmed,\"aa\")"
   ]
  },
  {
   "cell_type": "code",
   "execution_count": null,
   "metadata": {},
   "outputs": [],
   "source": [
    "for kk in range(5,9):#start + numfinder\n",
    "    print(\"fahad\",kk)"
   ]
  },
  {
   "cell_type": "code",
   "execution_count": null,
   "metadata": {},
   "outputs": [],
   "source": [
    "a_1 =[123,\"fahad\",11111,1111,111,True]\n",
    "print(a_1)"
   ]
  },
  {
   "cell_type": "markdown",
   "metadata": {},
   "source": [
    "# finding num and its original type"
   ]
  },
  {
   "cell_type": "code",
   "execution_count": null,
   "metadata": {},
   "outputs": [],
   "source": [
    "for num in a_1:\n",
    "    print(num,type(num))"
   ]
  },
  {
   "cell_type": "code",
   "execution_count": null,
   "metadata": {},
   "outputs": [],
   "source": [
    "a_1[1:3]"
   ]
  },
  {
   "cell_type": "markdown",
   "metadata": {},
   "source": []
  },
  {
   "cell_type": "code",
   "execution_count": null,
   "metadata": {},
   "outputs": [],
   "source": [
    "for gg  in range(1,10,2):\n",
    "    print(\"odd numbers\",gg)"
   ]
  },
  {
   "cell_type": "code",
   "execution_count": null,
   "metadata": {},
   "outputs": [],
   "source": [
    "abc=[221,3,44,55,66,76,64,23]\n"
   ]
  },
  {
   "cell_type": "code",
   "execution_count": null,
   "metadata": {},
   "outputs": [],
   "source": [
    "odd =[]\n",
    "even=[]\n",
    "for members in abc:\n",
    "    if members%2==0:\n",
    "        odd.append(members)\n",
    "    else:\n",
    "        even.append(members)\n",
    "print(\"even\")\n",
    "for evens in even:\n",
    "    print(evens,end=\" \")\n",
    "print(\"\\nodd\")\n",
    "for odds in odd:\n",
    "    print(odds,end=\" \")\n",
    "        \n",
    "        \n",
    "       "
   ]
  },
  {
   "cell_type": "code",
   "execution_count": null,
   "metadata": {},
   "outputs": [],
   "source": [
    "friends=[\"ahmed\",\"fahad\",\"talha\",\"erum\"]\n",
    "relative=[\"erum\",\"ahmed\",\"waqs\",\"aaaa\" ]\n",
    "close_friend=[]\n",
    "message=\" \"\n"
   ]
  },
  {
   "cell_type": "code",
   "execution_count": null,
   "metadata": {},
   "outputs": [],
   "source": [
    "for members in friends:\n",
    "    if members in relative:\n",
    "        close_friend.append(members)\n",
    "print(close_friend)\n",
    "for members in close_friend:\n",
    "    print(\"my close friends \",members)\n",
    "        \n",
    "    \n",
    "    \n",
    "    "
   ]
  },
  {
   "cell_type": "code",
   "execution_count": null,
   "metadata": {},
   "outputs": [],
   "source": [
    "for members in friends:\n",
    "    if members in relative:\n",
    "        close_friend.append(members)\n",
    "        print(close_friend)\n",
    "# for members in close_friend:\n",
    "#     print(\"my close friends \",members)\n",
    "        "
   ]
  },
  {
   "cell_type": "code",
   "execution_count": null,
   "metadata": {},
   "outputs": [],
   "source": [
    "ab3=[1,2,3,4,5,6,7,98,7,8,]\n"
   ]
  },
  {
   "cell_type": "markdown",
   "metadata": {},
   "source": [
    "# new work\n"
   ]
  },
  {
   "cell_type": "code",
   "execution_count": null,
   "metadata": {},
   "outputs": [],
   "source": [
    "current_user=[\"Msk\",\"junejo\",\"giga\",\"azhr\"]\n",
    "new_user=[\"Azhr\",\"fahad\",\"Msk\",\"irtiza\"]\n",
    "for members in new_user:\n",
    "    if members.upper() in current_user:\n",
    "        print(\"\\nenter new user name\"+\":\",members)\n",
    "    else:\n",
    "        print(\"\\nuser name is  available\"+\":\",members)"
   ]
  },
  {
   "cell_type": "code",
   "execution_count": null,
   "metadata": {},
   "outputs": [],
   "source": [
    "#formating==={}place holder..place f before in print command"
   ]
  },
  {
   "cell_type": "code",
   "execution_count": null,
   "metadata": {},
   "outputs": [],
   "source": [
    "name =\"ahmed\"\n",
    "dusra_naam =\"asad\" \n",
    "print(f\"i am {name}  who is  {dusra_naam}\")"
   ]
  },
  {
   "cell_type": "code",
   "execution_count": null,
   "metadata": {},
   "outputs": [],
   "source": [
    "kali=45\n",
    "bali=\"akhbar\"\n",
    "print(\"may god bless {1} take this {0}\".format(kali,bali))"
   ]
  },
  {
   "cell_type": "markdown",
   "metadata": {},
   "source": [
    "# tupple //packing of values for loop is work in index/len is for lenght"
   ]
  },
  {
   "cell_type": "code",
   "execution_count": null,
   "metadata": {},
   "outputs": [],
   "source": [
    "mytupple =(\"apple\",\"tetli\",\"kahkorch\")\n"
   ]
  },
  {
   "cell_type": "code",
   "execution_count": null,
   "metadata": {},
   "outputs": [],
   "source": [
    "type(mytupple)"
   ]
  },
  {
   "cell_type": "code",
   "execution_count": null,
   "metadata": {},
   "outputs": [],
   "source": [
    "mytupple[1]"
   ]
  },
  {
   "cell_type": "code",
   "execution_count": null,
   "metadata": {},
   "outputs": [],
   "source": [
    "mytupple[0:2]\n"
   ]
  },
  {
   "cell_type": "code",
   "execution_count": null,
   "metadata": {},
   "outputs": [],
   "source": [
    "a=123,321,45676,222,22223445\n",
    "print(a)"
   ]
  },
  {
   "cell_type": "code",
   "execution_count": null,
   "metadata": {},
   "outputs": [],
   "source": [
    "a"
   ]
  },
  {
   "cell_type": "code",
   "execution_count": null,
   "metadata": {},
   "outputs": [],
   "source": [
    "f,e,d,c,b=a\n"
   ]
  },
  {
   "cell_type": "code",
   "execution_count": null,
   "metadata": {},
   "outputs": [],
   "source": [
    "b"
   ]
  },
  {
   "cell_type": "code",
   "execution_count": null,
   "metadata": {},
   "outputs": [],
   "source": [
    "c"
   ]
  },
  {
   "cell_type": "code",
   "execution_count": null,
   "metadata": {},
   "outputs": [],
   "source": [
    "d"
   ]
  },
  {
   "cell_type": "code",
   "execution_count": null,
   "metadata": {},
   "outputs": [],
   "source": [
    "e"
   ]
  },
  {
   "cell_type": "code",
   "execution_count": null,
   "metadata": {},
   "outputs": [],
   "source": [
    "f"
   ]
  },
  {
   "cell_type": "code",
   "execution_count": 1,
   "metadata": {},
   "outputs": [
    {
     "name": "stdout",
     "output_type": "stream",
     "text": [
      "i love\tKARACHI\n"
     ]
    }
   ],
   "source": [
    "cities =(\"atlanta\",\"city\",\"karachi\",)\n",
    "mytown = cities[2]\n",
    "\n",
    "print(\"i love\\t\" +   cities[2].upper())"
   ]
  },
  {
   "cell_type": "code",
   "execution_count": 2,
   "metadata": {},
   "outputs": [
    {
     "name": "stdout",
     "output_type": "stream",
     "text": [
      "tup1[0]\t ppp\n",
      "tup2[1::] (1, 3, 56, 54)\n"
     ]
    }
   ],
   "source": [
    "tup1= (\"ppp\",\"ggg\",\"hhhh\",2000)\n",
    "tup2 =(1,2,3,4,56,77,54,54)\n",
    "print(\"tup1[0]\\t\",tup1[0])\n",
    "print(\"tup2[1::]\",tup2[0::2])"
   ]
  },
  {
   "cell_type": "code",
   "execution_count": 3,
   "metadata": {},
   "outputs": [
    {
     "name": "stdout",
     "output_type": "stream",
     "text": [
      "('abc', 'fff', 111, 22, 33)\n"
     ]
    }
   ],
   "source": [
    "tup1 =(111,22,33)\n",
    "tup2 =(\"abc\",\"fff\")\n",
    "tup3=tup2+tup1\n",
    "print(tup3)"
   ]
  },
  {
   "cell_type": "code",
   "execution_count": 4,
   "metadata": {},
   "outputs": [
    {
     "name": "stdout",
     "output_type": "stream",
     "text": [
      "after del tup3::\n"
     ]
    },
    {
     "ename": "NameError",
     "evalue": "name 'tup3' is not defined",
     "output_type": "error",
     "traceback": [
      "\u001b[1;31m---------------------------------------------------------------------------\u001b[0m",
      "\u001b[1;31mNameError\u001b[0m                                 Traceback (most recent call last)",
      "\u001b[1;32m<ipython-input-4-0c970ad31f9e>\u001b[0m in \u001b[0;36m<module>\u001b[1;34m\u001b[0m\n\u001b[0;32m      1\u001b[0m \u001b[0mprint\u001b[0m\u001b[1;33m(\u001b[0m\u001b[1;34m\"after del tup3::\"\u001b[0m\u001b[1;33m)\u001b[0m\u001b[1;33m\u001b[0m\u001b[1;33m\u001b[0m\u001b[0m\n\u001b[0;32m      2\u001b[0m \u001b[1;32mdel\u001b[0m \u001b[0mtup3\u001b[0m\u001b[1;33m\u001b[0m\u001b[1;33m\u001b[0m\u001b[0m\n\u001b[1;32m----> 3\u001b[1;33m \u001b[0mprint\u001b[0m\u001b[1;33m(\u001b[0m\u001b[0mtup3\u001b[0m\u001b[1;33m)\u001b[0m\u001b[1;33m\u001b[0m\u001b[1;33m\u001b[0m\u001b[0m\n\u001b[0m",
      "\u001b[1;31mNameError\u001b[0m: name 'tup3' is not defined"
     ]
    }
   ],
   "source": [
    "print(\"after del tup3::\")\n",
    "del tup3\n",
    "print(tup3)"
   ]
  },
  {
   "cell_type": "code",
   "execution_count": 5,
   "metadata": {},
   "outputs": [
    {
     "name": "stdout",
     "output_type": "stream",
     "text": [
      "4\n"
     ]
    }
   ],
   "source": [
    "ahmed = (\"aaa\",111,222,333)\n",
    "print(len(ahmed))"
   ]
  },
  {
   "cell_type": "code",
   "execution_count": 6,
   "metadata": {},
   "outputs": [
    {
     "name": "stdout",
     "output_type": "stream",
     "text": [
      "buy it first then eat that\n"
     ]
    }
   ],
   "source": [
    "fruits=(\"banana\",\"kiwi\",\"grapes\",\"orange\")\n",
    "if \"strawberry\" in fruits:\n",
    "    print(\"eat it\")\n",
    "else:\n",
    "    print(\"buy it first then eat that\")"
   ]
  },
  {
   "cell_type": "code",
   "execution_count": 7,
   "metadata": {},
   "outputs": [
    {
     "name": "stdout",
     "output_type": "stream",
     "text": [
      "banana\n",
      "kiwi\n",
      "grapes\n",
      "orange\n"
     ]
    }
   ],
   "source": [
    "for eat in fruits:\n",
    "    \n",
    "    print(eat)"
   ]
  },
  {
   "cell_type": "markdown",
   "metadata": {},
   "source": [
    "# dictionary.{key' :'value','key' :'value'} no index no seq\n"
   ]
  },
  {
   "cell_type": "code",
   "execution_count": 8,
   "metadata": {},
   "outputs": [
    {
     "name": "stdout",
     "output_type": "stream",
     "text": [
      "gega\n",
      "65756\n"
     ]
    }
   ],
   "source": [
    "cat={'aliien':'giga',\"fahad\":\"65756\",\"alin\":\"gega\"}\n",
    "print(cat[\"alin\"])\n",
    "print(cat['fahad'])\n"
   ]
  },
  {
   "cell_type": "code",
   "execution_count": 9,
   "metadata": {},
   "outputs": [],
   "source": [
    "myDic = {1:2}"
   ]
  },
  {
   "cell_type": "code",
   "execution_count": 10,
   "metadata": {},
   "outputs": [],
   "source": [
    "myDic1 = {1:\"aaa\"}"
   ]
  },
  {
   "cell_type": "code",
   "execution_count": 11,
   "metadata": {},
   "outputs": [],
   "source": [
    "myDic2 = {\"name\":\"dhoraji\",\"toyota\":\"dhoraji\"}"
   ]
  },
  {
   "cell_type": "code",
   "execution_count": 12,
   "metadata": {},
   "outputs": [],
   "source": [
    "myDic3 = {\"name\":\"dhoraji\",\"name\":\"fff\"}"
   ]
  },
  {
   "cell_type": "code",
   "execution_count": 13,
   "metadata": {},
   "outputs": [],
   "source": [
    "myDic4=[\"name\"]"
   ]
  },
  {
   "cell_type": "code",
   "execution_count": 14,
   "metadata": {},
   "outputs": [],
   "source": [
    "myDic5 ={1:(11,22)}"
   ]
  },
  {
   "cell_type": "code",
   "execution_count": 15,
   "metadata": {},
   "outputs": [
    {
     "data": {
      "text/plain": [
       "22"
      ]
     },
     "execution_count": 15,
     "metadata": {},
     "output_type": "execute_result"
    }
   ],
   "source": [
    "myDic5[1][1]"
   ]
  },
  {
   "cell_type": "code",
   "execution_count": 23,
   "metadata": {},
   "outputs": [
    {
     "data": {
      "text/plain": [
       "7"
      ]
     },
     "execution_count": 23,
     "metadata": {},
     "output_type": "execute_result"
    }
   ],
   "source": [
    "myDic6={1:[1,15,74,7,8,9],2:{22:222,2222:3333,55:555}}\n",
    "myDic6[1][3]"
   ]
  },
  {
   "cell_type": "code",
   "execution_count": 45,
   "metadata": {},
   "outputs": [
    {
     "name": "stdout",
     "output_type": "stream",
     "text": [
      "{'tabdeli': ['homes', 'uni', 'giga'], 'family': ['father', 1, 'mother', 1, 'brother', 2]}\n"
     ]
    }
   ],
   "source": [
    "pti={}\n",
    "pti['tabdeli']=['homes','uni','giga']\n",
    "pti['family'] =['father',1,'mother',1,'brother',2]\n",
    "\n",
    "print(pti)\n"
   ]
  },
  {
   "cell_type": "code",
   "execution_count": 28,
   "metadata": {},
   "outputs": [
    {
     "data": {
      "text/plain": [
       "'father'"
      ]
     },
     "execution_count": 28,
     "metadata": {},
     "output_type": "execute_result"
    }
   ],
   "source": [
    "pti['family'][0]"
   ]
  },
  {
   "cell_type": "code",
   "execution_count": 49,
   "metadata": {},
   "outputs": [],
   "source": [
    "foods={}\n",
    "foods['caramel']=[\"crunch\",456,\"fahad\",5698]"
   ]
  },
  {
   "cell_type": "code",
   "execution_count": 52,
   "metadata": {},
   "outputs": [
    {
     "name": "stdout",
     "output_type": "stream",
     "text": [
      "{'caramel': ['crunch', 456, 'fahad', 5698]}\n"
     ]
    },
    {
     "data": {
      "text/plain": [
       "5698"
      ]
     },
     "execution_count": 52,
     "metadata": {},
     "output_type": "execute_result"
    }
   ],
   "source": [
    "print(foods)\n",
    "foods['caramel'][3]"
   ]
  },
  {
   "cell_type": "code",
   "execution_count": 61,
   "metadata": {},
   "outputs": [
    {
     "name": "stdout",
     "output_type": "stream",
     "text": [
      "shane watson is a/australian  cricketer\n",
      "imam ul haqparchi\n"
     ]
    }
   ],
   "source": [
    "players={'watson':\"australian  cricketer\"}\n",
    "print('shane watson is a/'+ players['watson'])\n",
    "players ={\"imam ul haq\":\"parchi\"}\n",
    "print(\"imam ul haq\"+ players['imam ul haq'])         "
   ]
  },
  {
   "cell_type": "code",
   "execution_count": 2,
   "metadata": {},
   "outputs": [
    {
     "name": "stdout",
     "output_type": "stream",
     "text": [
      "Karachi is: kings\n",
      "PSL4 zalmi : won3\n"
     ]
    }
   ],
   "source": [
    "psl = {'karachi': 'kings', 'multan':'sultan', 'zalmi': 'won'}\n",
    "print(\"Karachi is: \" + psl['karachi'])\n",
    "\n",
    "if psl['zalmi']=='loser':\n",
    "    x_increment = 1\n",
    "elif psl['zalmi']=='caa':\n",
    "    x_increment=2\n",
    "else:\n",
    "    x_increment=3\n",
    "psl['zalmi']= psl['zalmi']+str(x_increment)\n",
    "print(\"PSL4 zalmi : \"+psl['zalmi'])"
   ]
  },
  {
   "cell_type": "code",
   "execution_count": 4,
   "metadata": {},
   "outputs": [
    {
     "name": "stdout",
     "output_type": "stream",
     "text": [
      "a 1\n",
      "b 2\n",
      "c 3\n"
     ]
    }
   ],
   "source": [
    "dic1= {'a':1,'b':2,'c':3}\n",
    "for key1 ,value1 in dic1.items():\n",
    "    print(key1,value1)"
   ]
  },
  {
   "cell_type": "code",
   "execution_count": 8,
   "metadata": {},
   "outputs": [
    {
     "name": "stdout",
     "output_type": "stream",
     "text": [
      "1\n",
      "2\n",
      "3\n"
     ]
    }
   ],
   "source": [
    "for value1 in dic1.values():\n",
    "    print(value1)"
   ]
  },
  {
   "cell_type": "code",
   "execution_count": null,
   "metadata": {},
   "outputs": [],
   "source": []
  },
  {
   "cell_type": "code",
   "execution_count": 6,
   "metadata": {},
   "outputs": [
    {
     "name": "stdout",
     "output_type": "stream",
     "text": [
      "a\n",
      "b\n",
      "c\n"
     ]
    }
   ],
   "source": [
    "for key1 in dic1.keys():\n",
    "    print(key1)"
   ]
  },
  {
   "cell_type": "code",
   "execution_count": null,
   "metadata": {},
   "outputs": [],
   "source": []
  },
  {
   "cell_type": "markdown",
   "metadata": {},
   "source": [
    "# a dic with similar objects "
   ]
  },
  {
   "cell_type": "code",
   "execution_count": 20,
   "metadata": {},
   "outputs": [
    {
     "name": "stdout",
     "output_type": "stream",
     "text": [
      "first name:  Ahmed\n",
      "last name: raza\n",
      "age:  22\n",
      "city:  karachi\n"
     ]
    }
   ],
   "source": [
    "info={'firstname':'ahmed','last name':'raza','age':22,'city':'karachi'}\n",
    "print('first name:  '+ info['firstname'].title())\n",
    "print('last name: '+ info['last name'].lower())\n",
    "print('age:  '+ str(info['age']))\n",
    "print('city:  '  + info['city'])"
   ]
  },
  {
   "cell_type": "code",
   "execution_count": 27,
   "metadata": {},
   "outputs": [
    {
     "name": "stdout",
     "output_type": "stream",
     "text": [
      "last name: raza\n",
      "age:  22\n",
      "city:  karachi\n"
     ]
    }
   ],
   "source": [
    "info={'firstname':'ahmed','last name':'raza','age':22,'city':'karachi'}\n",
    "#####print('first name  {}  '.format(info['firstname']).title())\n",
    "print('last name: '+ info['last name'].lower())\n",
    "print('age:  '+ str(info['age']))\n",
    "print('city:  '  + info['city'])"
   ]
  },
  {
   "cell_type": "code",
   "execution_count": 34,
   "metadata": {},
   "outputs": [
    {
     "name": "stdout",
     "output_type": "stream",
     "text": [
      "\n",
      "my MANAGER   is  nasir\n",
      "\n",
      "my ASSIT   is  shahid\n"
     ]
    }
   ],
   "source": [
    "teachers={'manager':'nasir','assit':'shahid'}\n",
    "for cargo,supply in teachers.items():\n",
    "    print('\\nmy '+cargo.upper()+'   is  '+supply.lower())"
   ]
  },
  {
   "cell_type": "code",
   "execution_count": 54,
   "metadata": {},
   "outputs": [
    {
     "name": "stdout",
     "output_type": "stream",
     "text": [
      "ddddd\n"
     ]
    }
   ],
   "source": [
    "teachers={'manager':'nasir','assit':'shahid'}\n",
    "if 'manager'  in teachers.keys():\n",
    "    print('ddddd')\n",
    "else:\n",
    "    print('great job')"
   ]
  },
  {
   "cell_type": "code",
   "execution_count": 49,
   "metadata": {},
   "outputs": [
    {
     "name": "stdout",
     "output_type": "stream",
     "text": [
      "key:manager\n",
      "value:nasir\n",
      "key:assit\n",
      "value:shahid\n"
     ]
    }
   ],
   "source": [
    "teachers={'manager':'nasir','assit':'shahid'}\n",
    "for key,value in teachers.items():\n",
    "    print('key:'+ key)\n",
    "    \n",
    "    print('value:'+ value)"
   ]
  },
  {
   "cell_type": "code",
   "execution_count": 71,
   "metadata": {},
   "outputs": [
    {
     "name": "stdout",
     "output_type": "stream",
     "text": [
      "[1, 1, 2, 3, 35, 6, 748, 798, 5]\n"
     ]
    }
   ],
   "source": [
    "teachers=[1,1,2,3,35,6,748,798,5]\n",
    "sorted(teachers,)\n",
    "print(teachers)"
   ]
  },
  {
   "cell_type": "code",
   "execution_count": 72,
   "metadata": {},
   "outputs": [
    {
     "data": {
      "text/plain": [
       "[1, 1, 2, 3, 35, 6, 748, 798, 5]"
      ]
     },
     "execution_count": 72,
     "metadata": {},
     "output_type": "execute_result"
    }
   ],
   "source": [
    "teachers"
   ]
  },
  {
   "cell_type": "code",
   "execution_count": 12,
   "metadata": {},
   "outputs": [],
   "source": [
    "aaa=sorted(teachers,reverse=True)"
   ]
  },
  {
   "cell_type": "code",
   "execution_count": 13,
   "metadata": {},
   "outputs": [
    {
     "data": {
      "text/plain": [
       "['manager', 'assit']"
      ]
     },
     "execution_count": 13,
     "metadata": {},
     "output_type": "execute_result"
    }
   ],
   "source": [
    "aaa"
   ]
  },
  {
   "cell_type": "code",
   "execution_count": 14,
   "metadata": {},
   "outputs": [
    {
     "data": {
      "text/plain": [
       "{'manager': 'nasir', 'assit': 'shahid'}"
      ]
     },
     "execution_count": 14,
     "metadata": {},
     "output_type": "execute_result"
    }
   ],
   "source": [
    "teachers"
   ]
  },
  {
   "cell_type": "code",
   "execution_count": 15,
   "metadata": {},
   "outputs": [
    {
     "ename": "NameError",
     "evalue": "name 'aa' is not defined",
     "output_type": "error",
     "traceback": [
      "\u001b[1;31m---------------------------------------------------------------------------\u001b[0m",
      "\u001b[1;31mNameError\u001b[0m                                 Traceback (most recent call last)",
      "\u001b[1;32m<ipython-input-15-8c92bd947da0>\u001b[0m in \u001b[0;36m<module>\u001b[1;34m\u001b[0m\n\u001b[0;32m      1\u001b[0m \u001b[0ma\u001b[0m\u001b[1;33m=\u001b[0m\u001b[1;33m[\u001b[0m\u001b[1;36m11\u001b[0m\u001b[1;33m,\u001b[0m\u001b[1;36m2\u001b[0m\u001b[1;33m,\u001b[0m\u001b[1;36m7\u001b[0m\u001b[1;33m,\u001b[0m\u001b[1;36m9\u001b[0m\u001b[1;33m,\u001b[0m\u001b[1;36m7\u001b[0m\u001b[1;33m]\u001b[0m\u001b[1;33m\u001b[0m\u001b[1;33m\u001b[0m\u001b[0m\n\u001b[1;32m----> 2\u001b[1;33m \u001b[0msorted\u001b[0m\u001b[1;33m(\u001b[0m\u001b[0maa\u001b[0m\u001b[1;33m,\u001b[0m\u001b[0mreversed\u001b[0m\u001b[1;33m)\u001b[0m\u001b[1;33m\u001b[0m\u001b[1;33m\u001b[0m\u001b[0m\n\u001b[0m",
      "\u001b[1;31mNameError\u001b[0m: name 'aa' is not defined"
     ]
    }
   ],
   "source": [
    "a=[11,2,7,9,7]\n",
    "sorted(aa,reversed)"
   ]
  },
  {
   "cell_type": "code",
   "execution_count": 16,
   "metadata": {},
   "outputs": [
    {
     "name": "stdout",
     "output_type": "stream",
     "text": [
      "[5, 3, 4, 2, 1]\n"
     ]
    }
   ],
   "source": [
    "list1 = [1, 2, 4, 3, 5] \n",
    "print(list(reversed(list1))) "
   ]
  },
  {
   "cell_type": "code",
   "execution_count": 17,
   "metadata": {},
   "outputs": [
    {
     "data": {
      "text/plain": [
       "['assit', 'manager']"
      ]
     },
     "execution_count": 17,
     "metadata": {},
     "output_type": "execute_result"
    }
   ],
   "source": [
    "teachers={'manager':'nasir','assit':'shahid'}\n",
    "sorted(teachers)"
   ]
  },
  {
   "cell_type": "code",
   "execution_count": 18,
   "metadata": {},
   "outputs": [
    {
     "name": "stdout",
     "output_type": "stream",
     "text": [
      "manager nasir\n",
      "assit shahid\n",
      "fahad aftab\n",
      "kiflam agera\n"
     ]
    }
   ],
   "source": [
    "teachers={'manager':'nasir','assit':'shahid'}\n",
    "master={'fahad':'aftab','kiflam':'agera'}\n",
    "both=[teachers,master]\n",
    "for a in both:\n",
    "    for keys,values in a.items():\n",
    "        print(keys,values)"
   ]
  },
  {
   "cell_type": "markdown",
   "metadata": {},
   "source": [
    "# tables"
   ]
  },
  {
   "cell_type": "code",
   "execution_count": 32,
   "metadata": {},
   "outputs": [
    {
     "name": "stdout",
     "output_type": "stream",
     "text": [
      "\n",
      "15 * 1 = 15\n",
      "15 * 2 = 30\n",
      "15 * 3 = 45\n",
      "15 * 4 = 60\n",
      "15 * 5 = 75\n",
      "15 * 6 = 90\n",
      "15 * 7 = 105\n",
      "15 * 8 = 120\n",
      "15 * 9 = 135\n",
      "15 * 10 = 150\n",
      "\n",
      "30 * 1 = 30\n",
      "30 * 2 = 60\n",
      "30 * 3 = 90\n",
      "30 * 4 = 120\n",
      "30 * 5 = 150\n",
      "30 * 6 = 180\n",
      "30 * 7 = 210\n",
      "30 * 8 = 240\n",
      "30 * 9 = 270\n",
      "30 * 10 = 300\n",
      "\n",
      "1 * 1 = 1\n",
      "1 * 2 = 2\n",
      "1 * 3 = 3\n",
      "1 * 4 = 4\n",
      "1 * 5 = 5\n",
      "1 * 6 = 6\n",
      "1 * 7 = 7\n",
      "1 * 8 = 8\n",
      "1 * 9 = 9\n",
      "1 * 10 = 10\n"
     ]
    }
   ],
   "source": [
    "numbers=[1,2,3,4,5,6,7,8,9,10]\n",
    "for table in[15,30,1]:\n",
    "    print()\n",
    "    for num in numbers:\n",
    "        \n",
    "        print(f'{table} * {num} = {table *num}')\n",
    "       "
   ]
  },
  {
   "cell_type": "raw",
   "metadata": {},
   "source": []
  }
 ],
 "metadata": {
  "kernelspec": {
   "display_name": "Python 3",
   "language": "python",
   "name": "python3"
  },
  "language_info": {
   "codemirror_mode": {
    "name": "ipython",
    "version": 3
   },
   "file_extension": ".py",
   "mimetype": "text/x-python",
   "name": "python",
   "nbconvert_exporter": "python",
   "pygments_lexer": "ipython3",
   "version": "3.7.1"
  }
 },
 "nbformat": 4,
 "nbformat_minor": 2
}
